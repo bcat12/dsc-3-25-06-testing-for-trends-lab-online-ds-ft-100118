{
 "cells": [
  {
   "cell_type": "markdown",
   "metadata": {},
   "source": [
    "# Testing for Trends - Lab\n",
    "\n",
    "## Introduction\n",
    "\n",
    "In this lab, you'll practice your knowledge on testing for stationarity.\n",
    "\n",
    "## Objectives\n",
    "\n",
    "You will be able to:\n",
    "\n",
    "* Check and comment on the stationarity of time series data \n",
    "* Use rolling statistics as an initial check for stationarity \n",
    "* Use the Dickey Fuller Test for performing statistical testing for time series stationarity"
   ]
  },
  {
   "cell_type": "markdown",
   "metadata": {},
   "source": [
    "## Importing the data\n",
    "\n",
    "Let's look at some new data. In this lab, We'll work by creating a time-series object in Python by using the popular [Air Passengers dataset](https://www.analyticsvidhya.com/wp-content/uploads/2016/02/AirPassengers.csv).\n",
    "\n",
    "This dataset is stored as `passengers.csv`."
   ]
  },
  {
   "cell_type": "code",
   "execution_count": 1,
   "metadata": {},
   "outputs": [],
   "source": [
    "# Import necessary libraries\n",
    "import pandas as pd\n",
    "from pandas import Series\n",
    "import numpy as np\n",
    "import matplotlib.pylab as plt\n",
    "%matplotlib inline"
   ]
  },
  {
   "cell_type": "markdown",
   "metadata": {},
   "source": [
    "Import `passengers.csv` and view the head."
   ]
  },
  {
   "cell_type": "code",
   "execution_count": 2,
   "metadata": {},
   "outputs": [
    {
     "data": {
      "text/html": [
       "<div>\n",
       "<style scoped>\n",
       "    .dataframe tbody tr th:only-of-type {\n",
       "        vertical-align: middle;\n",
       "    }\n",
       "\n",
       "    .dataframe tbody tr th {\n",
       "        vertical-align: top;\n",
       "    }\n",
       "\n",
       "    .dataframe thead th {\n",
       "        text-align: right;\n",
       "    }\n",
       "</style>\n",
       "<table border=\"1\" class=\"dataframe\">\n",
       "  <thead>\n",
       "    <tr style=\"text-align: right;\">\n",
       "      <th></th>\n",
       "      <th>Month</th>\n",
       "      <th>#Passengers</th>\n",
       "    </tr>\n",
       "  </thead>\n",
       "  <tbody>\n",
       "    <tr>\n",
       "      <th>0</th>\n",
       "      <td>1949-01-01</td>\n",
       "      <td>112</td>\n",
       "    </tr>\n",
       "    <tr>\n",
       "      <th>1</th>\n",
       "      <td>1949-02-01</td>\n",
       "      <td>118</td>\n",
       "    </tr>\n",
       "    <tr>\n",
       "      <th>2</th>\n",
       "      <td>1949-03-01</td>\n",
       "      <td>132</td>\n",
       "    </tr>\n",
       "    <tr>\n",
       "      <th>3</th>\n",
       "      <td>1949-04-01</td>\n",
       "      <td>129</td>\n",
       "    </tr>\n",
       "    <tr>\n",
       "      <th>4</th>\n",
       "      <td>1949-05-01</td>\n",
       "      <td>121</td>\n",
       "    </tr>\n",
       "  </tbody>\n",
       "</table>\n",
       "</div>"
      ],
      "text/plain": [
       "        Month  #Passengers\n",
       "0  1949-01-01          112\n",
       "1  1949-02-01          118\n",
       "2  1949-03-01          132\n",
       "3  1949-04-01          129\n",
       "4  1949-05-01          121"
      ]
     },
     "execution_count": 2,
     "metadata": {},
     "output_type": "execute_result"
    }
   ],
   "source": [
    "# Read the dataset 'passengers.csv' and view the head\n",
    "df = pd.read_csv('passengers.csv')\n",
    "df.head()\n",
    "# Month\t#Passengers\n",
    "# 0\t1949-01-01\t112\n",
    "# 1\t1949-02-01\t118\n",
    "# 2\t1949-03-01\t132\n",
    "# 3\t1949-04-01\t129\n",
    "# 4\t1949-05-01\t121"
   ]
  },
  {
   "cell_type": "markdown",
   "metadata": {},
   "source": [
    "Change the `Month` column over to a `datetime` object and make sure it is set as the index."
   ]
  },
  {
   "cell_type": "code",
   "execution_count": 3,
   "metadata": {},
   "outputs": [
    {
     "name": "stdout",
     "output_type": "stream",
     "text": [
      "<class 'pandas.core.frame.DataFrame'>\n",
      "DatetimeIndex: 144 entries, 1949-01-01 to 1960-12-01\n",
      "Data columns (total 1 columns):\n",
      "#Passengers    144 non-null int64\n",
      "dtypes: int64(1)\n",
      "memory usage: 2.2 KB\n"
     ]
    }
   ],
   "source": [
    "# Set month column as a timeseries object, and make it the index\n",
    "df['Month'] = pd.to_datetime(df['Month'])\n",
    "df.set_index('Month', inplace = True)\n",
    "df.info()"
   ]
  },
  {
   "cell_type": "code",
   "execution_count": 5,
   "metadata": {},
   "outputs": [
    {
     "data": {
      "text/plain": [
       "DatetimeIndex(['1949-01-01', '1949-02-01', '1949-03-01', '1949-04-01',\n",
       "               '1949-05-01', '1949-06-01', '1949-07-01', '1949-08-01',\n",
       "               '1949-09-01', '1949-10-01',\n",
       "               ...\n",
       "               '1960-03-01', '1960-04-01', '1960-05-01', '1960-06-01',\n",
       "               '1960-07-01', '1960-08-01', '1960-09-01', '1960-10-01',\n",
       "               '1960-11-01', '1960-12-01'],\n",
       "              dtype='datetime64[ns]', name='Month', length=144, freq=None)"
      ]
     },
     "execution_count": 5,
     "metadata": {},
     "output_type": "execute_result"
    }
   ],
   "source": [
    "# check the head and the new index\n",
    "\n",
    "df.index\n",
    "# DatetimeIndex(['1949-01-01', '1949-02-01', '1949-03-01', '1949-04-01',\n",
    "#                '1949-05-01', '1949-06-01', '1949-07-01', '1949-08-01',\n",
    "#                '1949-09-01', '1949-10-01',\n",
    "#                ...\n",
    "#                '1960-03-01', '1960-04-01', '1960-05-01', '1960-06-01',\n",
    "#                '1960-07-01', '1960-08-01', '1960-09-01', '1960-10-01',\n",
    "#                '1960-11-01', '1960-12-01'],\n",
    "#               dtype='datetime64[ns]', name='Month', length=144, freq=None)"
   ]
  },
  {
   "cell_type": "markdown",
   "metadata": {},
   "source": [
    "Now that we have successfully created a TS object, we can use simple `plot()` function in pandas to visually incpect this time-series."
   ]
  },
  {
   "cell_type": "code",
   "execution_count": 7,
   "metadata": {},
   "outputs": [
    {
     "data": {
      "image/png": "[encoded data removed]",
      "text/plain": [
       "<Figure size 720x432 with 1 Axes>"
      ]
     },
     "metadata": {},
     "output_type": "display_data"
    }
   ],
   "source": [
    "# Plot the time series data \n",
    "df.plot(figsize=(10,6));"
   ]
  },
  {
   "cell_type": "markdown",
   "metadata": {},
   "source": [
    "It is clearly evident that there is an overall increasing trend in the data along with some seasonal variations. However, it might not always be possible to make such visual inferences. Let's reconfirm this here using both **rolling statistics** and "
   ]
  },
  {
   "cell_type": "markdown",
   "metadata": {},
   "source": [
    "## Rolling Statistics \n",
    "\n",
    "Use the `.rolling()` function to find rolling mean and rolling std with a window of 12 months. Plot the original curve along with the rolling mean and standard error."
   ]
  },
  {
   "cell_type": "code",
   "execution_count": 9,
   "metadata": {},
   "outputs": [
    {
     "name": "stdout",
     "output_type": "stream",
     "text": [
      "            #Passengers\n",
      "Month                  \n",
      "1949-01-01          NaN\n",
      "1949-02-01          NaN\n",
      "1949-03-01          NaN\n",
      "1949-04-01          NaN\n",
      "1949-05-01          NaN\n",
      "1949-06-01          NaN\n",
      "1949-07-01          NaN\n",
      "1949-08-01          NaN\n",
      "1949-09-01          NaN\n",
      "1949-10-01          NaN\n",
      "1949-11-01          NaN\n",
      "1949-12-01   126.666667\n",
      "1950-01-01   126.916667\n",
      "1950-02-01   127.583333\n",
      "1950-03-01   128.333333\n",
      "1950-04-01   128.833333\n",
      "1950-05-01   129.166667\n",
      "1950-06-01   130.333333\n",
      "1950-07-01   132.166667\n",
      "1950-08-01   134.000000\n",
      "1950-09-01   135.833333\n",
      "1950-10-01   137.000000\n",
      "1950-11-01   137.833333\n",
      "1950-12-01   139.666667\n",
      "1951-01-01   142.166667\n",
      "1951-02-01   144.166667\n",
      "1951-03-01   147.250000\n",
      "1951-04-01   149.583333\n",
      "1951-05-01   153.500000\n",
      "1951-06-01   155.916667\n",
      "...                 ...\n",
      "1958-07-01   376.333333\n",
      "1958-08-01   379.500000\n",
      "1958-09-01   379.500000\n",
      "1958-10-01   380.500000\n",
      "1958-11-01   380.916667\n",
      "1958-12-01   381.000000\n",
      "1959-01-01   382.666667\n",
      "1959-02-01   384.666667\n",
      "1959-03-01   388.333333\n",
      "1959-04-01   392.333333\n",
      "1959-05-01   397.083333\n",
      "1959-06-01   400.166667\n",
      "1959-07-01   404.916667\n",
      "1959-08-01   409.416667\n",
      "1959-09-01   414.333333\n",
      "1959-10-01   418.333333\n",
      "1959-11-01   422.666667\n",
      "1959-12-01   428.333333\n",
      "1960-01-01   433.083333\n",
      "1960-02-01   437.166667\n",
      "1960-03-01   438.250000\n",
      "1960-04-01   443.666667\n",
      "1960-05-01   448.000000\n",
      "1960-06-01   453.250000\n",
      "1960-07-01   459.416667\n",
      "1960-08-01   463.333333\n",
      "1960-09-01   467.083333\n",
      "1960-10-01   471.583333\n",
      "1960-11-01   473.916667\n",
      "1960-12-01   476.166667\n",
      "\n",
      "[144 rows x 1 columns]\n",
      "            #Passengers\n",
      "Month                  \n",
      "1949-01-01          NaN\n",
      "1949-02-01          NaN\n",
      "1949-03-01          NaN\n",
      "1949-04-01          NaN\n",
      "1949-05-01          NaN\n",
      "1949-06-01          NaN\n",
      "1949-07-01          NaN\n",
      "1949-08-01          NaN\n",
      "1949-09-01          NaN\n",
      "1949-10-01          NaN\n",
      "1949-11-01          NaN\n",
      "1949-12-01    13.720147\n",
      "1950-01-01    13.453342\n",
      "1950-02-01    13.166475\n",
      "1950-03-01    13.686977\n",
      "1950-04-01    13.822467\n",
      "1950-05-01    13.663710\n",
      "1950-06-01    14.760718\n",
      "1950-07-01    18.135016\n",
      "1950-08-01    20.797727\n",
      "1950-09-01    21.928949\n",
      "1950-10-01    21.315807\n",
      "1950-11-01    20.067311\n",
      "1950-12-01    19.070841\n",
      "1951-01-01    17.439940\n",
      "1951-02-01    16.781122\n",
      "1951-03-01    19.349066\n",
      "1951-04-01    19.425655\n",
      "1951-05-01    18.744696\n",
      "1951-06-01    19.942911\n",
      "...                 ...\n",
      "1958-07-01    59.590013\n",
      "1958-08-01    65.557054\n",
      "1958-09-01    65.557054\n",
      "1958-10-01    65.106207\n",
      "1958-11-01    64.593074\n",
      "1958-12-01    64.530472\n",
      "1959-01-01    63.627229\n",
      "1959-02-01    61.759553\n",
      "1959-03-01    61.597422\n",
      "1959-04-01    60.284678\n",
      "1959-05-01    60.008270\n",
      "1959-06-01    63.009138\n",
      "1959-07-01    71.987951\n",
      "1959-08-01    80.049369\n",
      "1959-09-01    81.485451\n",
      "1959-10-01    79.680422\n",
      "1959-11-01    74.498729\n",
      "1959-12-01    69.830097\n",
      "1960-01-01    66.624399\n",
      "1960-02-01    61.866180\n",
      "1960-03-01    61.382741\n",
      "1960-04-01    60.171472\n",
      "1960-05-01    60.184565\n",
      "1960-06-01    65.021849\n",
      "1960-07-01    77.194510\n",
      "1960-08-01    83.630500\n",
      "1960-09-01    84.617276\n",
      "1960-10-01    82.541954\n",
      "1960-11-01    79.502382\n",
      "1960-12-01    77.737125\n",
      "\n",
      "[144 rows x 1 columns]\n"
     ]
    }
   ],
   "source": [
    "#Determine rolling statistics\n",
    "rollingmean = df.rolling(window = 12, center = False).mean()\n",
    "rollingstd = df.rolling(window = 12, center = False).std()\n",
    "print(rollingmean)\n",
    "print(rollingstd)"
   ]
  },
  {
   "cell_type": "code",
   "execution_count": 11,
   "metadata": {},
   "outputs": [
    {
     "data": {
      "image/png": "[encoded data removed]",
      "text/plain": [
       "<Figure size 720x432 with 1 Axes>"
      ]
     },
     "metadata": {},
     "output_type": "display_data"
    }
   ],
   "source": [
    "#Plot rolling statistics\n",
    "fig = plt.figure(figsize=(10,6))\n",
    "original = plt.plot(df, color='black',label='Original')\n",
    "mean = plt.plot(rollingmean, color='red', label='Rolling Mean')\n",
    "std = plt.plot(rollingstd, color='blue', label = 'Rolling Std')\n",
    "plt.legend()\n",
    "plt.title('Original, Rolling Mean, Rolling Standard Deviation')\n",
    "plt.show()"
   ]
  },
  {
   "cell_type": "markdown",
   "metadata": {},
   "source": [
    "Though the variation in standard deviation is small, mean is clearly increasing with time and thus, this is not a stationary series. "
   ]
  },
  {
   "cell_type": "markdown",
   "metadata": {},
   "source": [
    "## Dickey-Fuller Test \n",
    "\n",
    "Use the Dickey-Fuller Test to verify your visual result."
   ]
  },
  {
   "cell_type": "code",
   "execution_count": 50,
   "metadata": {},
   "outputs": [
    {
     "name": "stdout",
     "output_type": "stream",
     "text": [
      "Results of Dickey-Fuller Test:\n",
      "Test Statistic                   0.815369\n",
      "p-value                          0.991880\n",
      "#Lags Used                      13.000000\n",
      "Number of Observations Used    130.000000\n",
      "Critical Value (1%)             -3.481682\n",
      "Critical Value (5%)             -2.884042\n",
      "Critical Value (10%)            -2.578770\n",
      "dtype: float64\n"
     ]
    }
   ],
   "source": [
    "from statsmodels.tsa.stattools import adfuller\n",
    "\n",
    "#Perform Dickey-Fuller test:\n",
    "dftest = adfuller(df['#Passengers'])\n",
    "# Extract and display test results in a user friendly manner\n",
    "dfoutput = pd.Series(dftest[0:4], index=['Test Statistic','p-value','Lags','Observations'])\n",
    "for key,value in dftest[4].items():\n",
    "    dfoutput['Critical Value (%s)'%key] = value\n",
    "print (dfoutput)\n",
    "# Results of Dickey-Fuller Test:\n",
    "# Test Statistic                   0.815369\n",
    "# p-value                          0.991880\n",
    "# #Lags Used                      13.000000\n",
    "# Number of Observations Used    130.000000\n",
    "# Critical Value (1%)             -3.481682\n",
    "# Critical Value (5%)             -2.884042\n",
    "# Critical Value (10%)            -2.578770\n",
    "# dtype: float64"
   ]
  },
  {
   "cell_type": "markdown",
   "metadata": {},
   "source": [
    "## Conclusion here"
   ]
  },
  {
   "cell_type": "markdown",
   "metadata": {},
   "source": [
    "## Level up - Optional\n",
    "\n",
    "Repeat the previous steps for the NYSE monthly data , stored in \"NYSE_monthly.csv\"."
   ]
  },
  {
   "cell_type": "markdown",
   "metadata": {},
   "source": [
    "## Summary\n",
    "\n",
    "In this lab, we learnt to check for the stationarity of a time-series object in Python. Next, we'll further explore stationarity and how to make sure to make time series stationary!"
   ]
  }
 ],
 "metadata": {
  "kernelspec": {
   "display_name": "Python 3",
   "language": "python",
   "name": "python3"
  },
  "language_info": {
   "codemirror_mode": {
    "name": "ipython",
    "version": 3
   },
   "file_extension": ".py",
   "mimetype": "text/x-python",
   "name": "python",
   "nbconvert_exporter": "python",
   "pygments_lexer": "ipython3",
   "version": "3.6.5"
  }
 },
 "nbformat": 4,
 "nbformat_minor": 2
}
